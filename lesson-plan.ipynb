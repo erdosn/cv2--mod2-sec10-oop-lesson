{
 "cells": [
  {
   "cell_type": "markdown",
   "metadata": {},
   "source": [
    "### Objectives\n",
    "YWBAT \n",
    "* design OOPs to optimize tasks"
   ]
  },
  {
   "cell_type": "markdown",
   "metadata": {},
   "source": [
    "# Creating an ORM\n",
    "ORMs are ways for us to interact with dbs using python (in our case). You can build them with other languages though such as javascript, scala, etc. \n",
    "\n",
    "To start building an ORM, open the my_class.py file\n",
    "* Create a class called MyDatabase\n",
    "* Then create an init method that takes in the connection information of your class\n",
    "    * in other words when you instantiate your object you should be able to connect to your database\n",
    "* Create methods for your class to\n",
    "    * query the tables in your database\n",
    "    * query all the information for a given table\n",
    "    * query the columns of a table\n",
    "* After this create a child class called Customers\n",
    "* Create methods to\n",
    "    * query all the information from the Customers class (but ideally this should be inherited from your parent class, so you really don't have to do this)\n",
    "    * query specific customers given a column and a value (you can pick)\n",
    "    * create your own function specific to the customers table\n",
    "* Create another class for a given table and write at least 3 methods"
   ]
  },
  {
   "cell_type": "markdown",
   "metadata": {},
   "source": [
    "### Outline\n",
    "* Connect to our DB in Jupyter\n",
    "* Run some queries\n",
    "* Translate those queries/connections into a class object\n",
    "* Build out our class object as we need more functionality\n",
    "* Build child classes using our parent class"
   ]
  },
  {
   "cell_type": "markdown",
   "metadata": {},
   "source": [
    "Use Jupyter to import your file and test your methods\n",
    "\n",
    "Example\n",
    "\n",
    "```python\n",
    "my_db = MyDatabase(params)\n",
    "my_db.list_tables()\n",
    "```"
   ]
  },
  {
   "cell_type": "code",
   "execution_count": 2,
   "metadata": {},
   "outputs": [],
   "source": [
    "import sqlite3\n",
    "import numpy as np\n",
    "\n",
    "import pandas as pd\n",
    "from importlib import reload"
   ]
  },
  {
   "cell_type": "markdown",
   "metadata": {},
   "source": [
    "```\n",
    "Object\n",
    "    |-Attributes\n",
    "    |-Methods\n",
    "```"
   ]
  },
  {
   "cell_type": "code",
   "execution_count": 3,
   "metadata": {},
   "outputs": [],
   "source": [
    "conn = sqlite3.Connection(\"data.sqlite\")"
   ]
  },
  {
   "cell_type": "code",
   "execution_count": 9,
   "metadata": {},
   "outputs": [
    {
     "data": {
      "text/plain": [
       "['orderdetails',\n",
       " 'payments',\n",
       " 'offices',\n",
       " 'customers',\n",
       " 'orders',\n",
       " 'productlines',\n",
       " 'products',\n",
       " 'employees',\n",
       " 'contacts',\n",
       " 'contacts2']"
      ]
     },
     "execution_count": 9,
     "metadata": {},
     "output_type": "execute_result"
    }
   ],
   "source": [
    "# list all of our tables in the database\n",
    "\n",
    "def get_table_names(conn):\n",
    "    query = \"select name from sqlite_master where type='table'\"\n",
    "\n",
    "    res = conn.execute(query).fetchall()\n",
    "    table_names = [r[0] for r in res]\n",
    "    return table_names\n",
    "\n",
    "get_table_names(conn)"
   ]
  },
  {
   "cell_type": "code",
   "execution_count": 187,
   "metadata": {},
   "outputs": [
    {
     "data": {
      "text/plain": [
       "<module 'DataConnector' from '/Users/rafael/flatiron-dsc/curriculum-v2-1/section21/cv2--mod2-sec10-oop-lesson/DataConnector.py'>"
      ]
     },
     "execution_count": 187,
     "metadata": {},
     "output_type": "execute_result"
    }
   ],
   "source": [
    "import DataConnector as dc\n",
    "reload(dc) # refreshes the file in memory"
   ]
  },
  {
   "cell_type": "code",
   "execution_count": 188,
   "metadata": {},
   "outputs": [],
   "source": [
    "# this is where the DataConnector Object is made\n",
    "data_connector = dc.DataConnector(filename=\"data.sqlite\")\n"
   ]
  },
  {
   "cell_type": "code",
   "execution_count": 189,
   "metadata": {},
   "outputs": [
    {
     "data": {
      "text/plain": [
       "<sqlite3.Connection at 0x121990c70>"
      ]
     },
     "execution_count": 189,
     "metadata": {},
     "output_type": "execute_result"
    }
   ],
   "source": [
    "data_connector.conn"
   ]
  },
  {
   "cell_type": "code",
   "execution_count": 190,
   "metadata": {},
   "outputs": [
    {
     "data": {
      "text/plain": [
       "['orderdetails',\n",
       " 'payments',\n",
       " 'offices',\n",
       " 'customers',\n",
       " 'orders',\n",
       " 'productlines',\n",
       " 'products',\n",
       " 'employees',\n",
       " 'contacts',\n",
       " 'contacts2']"
      ]
     },
     "execution_count": 190,
     "metadata": {},
     "output_type": "execute_result"
    }
   ],
   "source": [
    "table_names = data_connector.get_table_names()\n",
    "table_names"
   ]
  },
  {
   "cell_type": "code",
   "execution_count": 191,
   "metadata": {},
   "outputs": [],
   "source": [
    "payments_df = data_connector.load_table_as_df(table_name=\"payments\")"
   ]
  },
  {
   "cell_type": "code",
   "execution_count": 192,
   "metadata": {},
   "outputs": [
    {
     "data": {
      "text/html": [
       "<div>\n",
       "<style scoped>\n",
       "    .dataframe tbody tr th:only-of-type {\n",
       "        vertical-align: middle;\n",
       "    }\n",
       "\n",
       "    .dataframe tbody tr th {\n",
       "        vertical-align: top;\n",
       "    }\n",
       "\n",
       "    .dataframe thead th {\n",
       "        text-align: right;\n",
       "    }\n",
       "</style>\n",
       "<table border=\"1\" class=\"dataframe\">\n",
       "  <thead>\n",
       "    <tr style=\"text-align: right;\">\n",
       "      <th></th>\n",
       "      <th>customerNumber</th>\n",
       "      <th>checkNumber</th>\n",
       "      <th>paymentDate</th>\n",
       "      <th>amount</th>\n",
       "    </tr>\n",
       "  </thead>\n",
       "  <tbody>\n",
       "    <tr>\n",
       "      <td>0</td>\n",
       "      <td>103</td>\n",
       "      <td>HQ336336</td>\n",
       "      <td>2004-10-19</td>\n",
       "      <td>6066.78</td>\n",
       "    </tr>\n",
       "    <tr>\n",
       "      <td>1</td>\n",
       "      <td>103</td>\n",
       "      <td>JM555205</td>\n",
       "      <td>2003-06-05</td>\n",
       "      <td>14571.44</td>\n",
       "    </tr>\n",
       "    <tr>\n",
       "      <td>2</td>\n",
       "      <td>103</td>\n",
       "      <td>OM314933</td>\n",
       "      <td>2004-12-18</td>\n",
       "      <td>1676.14</td>\n",
       "    </tr>\n",
       "    <tr>\n",
       "      <td>3</td>\n",
       "      <td>112</td>\n",
       "      <td>BO864823</td>\n",
       "      <td>2004-12-17</td>\n",
       "      <td>14191.12</td>\n",
       "    </tr>\n",
       "    <tr>\n",
       "      <td>4</td>\n",
       "      <td>112</td>\n",
       "      <td>HQ55022</td>\n",
       "      <td>2003-06-06</td>\n",
       "      <td>32641.98</td>\n",
       "    </tr>\n",
       "  </tbody>\n",
       "</table>\n",
       "</div>"
      ],
      "text/plain": [
       "  customerNumber checkNumber paymentDate    amount\n",
       "0            103    HQ336336  2004-10-19   6066.78\n",
       "1            103    JM555205  2003-06-05  14571.44\n",
       "2            103    OM314933  2004-12-18   1676.14\n",
       "3            112    BO864823  2004-12-17  14191.12\n",
       "4            112     HQ55022  2003-06-06  32641.98"
      ]
     },
     "execution_count": 192,
     "metadata": {},
     "output_type": "execute_result"
    }
   ],
   "source": [
    "payments_df.head()"
   ]
  },
  {
   "cell_type": "code",
   "execution_count": 193,
   "metadata": {},
   "outputs": [],
   "source": [
    "# So we've built our dataconnector class.  \n",
    "# The next step is to build a specific class for a specific table"
   ]
  },
  {
   "cell_type": "code",
   "execution_count": 194,
   "metadata": {},
   "outputs": [],
   "source": [
    "payment_connector = dc.PaymentsConnector(filename=\"data.sqlite\")"
   ]
  },
  {
   "cell_type": "code",
   "execution_count": 195,
   "metadata": {},
   "outputs": [
    {
     "data": {
      "text/plain": [
       "'payments'"
      ]
     },
     "execution_count": 195,
     "metadata": {},
     "output_type": "execute_result"
    }
   ],
   "source": [
    "payment_connector.table_name"
   ]
  },
  {
   "cell_type": "code",
   "execution_count": 196,
   "metadata": {},
   "outputs": [
    {
     "data": {
      "text/plain": [
       "['orderdetails',\n",
       " 'payments',\n",
       " 'offices',\n",
       " 'customers',\n",
       " 'orders',\n",
       " 'productlines',\n",
       " 'products',\n",
       " 'employees',\n",
       " 'contacts',\n",
       " 'contacts2']"
      ]
     },
     "execution_count": 196,
     "metadata": {},
     "output_type": "execute_result"
    }
   ],
   "source": [
    "payment_connector.get_table_names()"
   ]
  },
  {
   "cell_type": "code",
   "execution_count": 197,
   "metadata": {},
   "outputs": [
    {
     "data": {
      "text/html": [
       "<div>\n",
       "<style scoped>\n",
       "    .dataframe tbody tr th:only-of-type {\n",
       "        vertical-align: middle;\n",
       "    }\n",
       "\n",
       "    .dataframe tbody tr th {\n",
       "        vertical-align: top;\n",
       "    }\n",
       "\n",
       "    .dataframe thead th {\n",
       "        text-align: right;\n",
       "    }\n",
       "</style>\n",
       "<table border=\"1\" class=\"dataframe\">\n",
       "  <thead>\n",
       "    <tr style=\"text-align: right;\">\n",
       "      <th></th>\n",
       "      <th>customerNumber</th>\n",
       "      <th>checkNumber</th>\n",
       "      <th>paymentDate</th>\n",
       "      <th>amount</th>\n",
       "    </tr>\n",
       "  </thead>\n",
       "  <tbody>\n",
       "    <tr>\n",
       "      <td>0</td>\n",
       "      <td>103</td>\n",
       "      <td>HQ336336</td>\n",
       "      <td>2004-10-19</td>\n",
       "      <td>6066.78</td>\n",
       "    </tr>\n",
       "    <tr>\n",
       "      <td>1</td>\n",
       "      <td>103</td>\n",
       "      <td>JM555205</td>\n",
       "      <td>2003-06-05</td>\n",
       "      <td>14571.44</td>\n",
       "    </tr>\n",
       "    <tr>\n",
       "      <td>2</td>\n",
       "      <td>103</td>\n",
       "      <td>OM314933</td>\n",
       "      <td>2004-12-18</td>\n",
       "      <td>1676.14</td>\n",
       "    </tr>\n",
       "    <tr>\n",
       "      <td>3</td>\n",
       "      <td>112</td>\n",
       "      <td>BO864823</td>\n",
       "      <td>2004-12-17</td>\n",
       "      <td>14191.12</td>\n",
       "    </tr>\n",
       "    <tr>\n",
       "      <td>4</td>\n",
       "      <td>112</td>\n",
       "      <td>HQ55022</td>\n",
       "      <td>2003-06-06</td>\n",
       "      <td>32641.98</td>\n",
       "    </tr>\n",
       "    <tr>\n",
       "      <td>...</td>\n",
       "      <td>...</td>\n",
       "      <td>...</td>\n",
       "      <td>...</td>\n",
       "      <td>...</td>\n",
       "    </tr>\n",
       "    <tr>\n",
       "      <td>268</td>\n",
       "      <td>495</td>\n",
       "      <td>BH167026</td>\n",
       "      <td>2003-12-26</td>\n",
       "      <td>59265.14</td>\n",
       "    </tr>\n",
       "    <tr>\n",
       "      <td>269</td>\n",
       "      <td>495</td>\n",
       "      <td>FN155234</td>\n",
       "      <td>2004-05-14</td>\n",
       "      <td>6276.60</td>\n",
       "    </tr>\n",
       "    <tr>\n",
       "      <td>270</td>\n",
       "      <td>496</td>\n",
       "      <td>EU531600</td>\n",
       "      <td>2005-05-25</td>\n",
       "      <td>30253.75</td>\n",
       "    </tr>\n",
       "    <tr>\n",
       "      <td>271</td>\n",
       "      <td>496</td>\n",
       "      <td>MB342426</td>\n",
       "      <td>2003-07-16</td>\n",
       "      <td>32077.44</td>\n",
       "    </tr>\n",
       "    <tr>\n",
       "      <td>272</td>\n",
       "      <td>496</td>\n",
       "      <td>MN89921</td>\n",
       "      <td>2004-12-31</td>\n",
       "      <td>52166.00</td>\n",
       "    </tr>\n",
       "  </tbody>\n",
       "</table>\n",
       "<p>273 rows × 4 columns</p>\n",
       "</div>"
      ],
      "text/plain": [
       "    customerNumber checkNumber paymentDate    amount\n",
       "0              103    HQ336336  2004-10-19   6066.78\n",
       "1              103    JM555205  2003-06-05  14571.44\n",
       "2              103    OM314933  2004-12-18   1676.14\n",
       "3              112    BO864823  2004-12-17  14191.12\n",
       "4              112     HQ55022  2003-06-06  32641.98\n",
       "..             ...         ...         ...       ...\n",
       "268            495    BH167026  2003-12-26  59265.14\n",
       "269            495    FN155234  2004-05-14   6276.60\n",
       "270            496    EU531600  2005-05-25  30253.75\n",
       "271            496    MB342426  2003-07-16  32077.44\n",
       "272            496     MN89921  2004-12-31  52166.00\n",
       "\n",
       "[273 rows x 4 columns]"
      ]
     },
     "execution_count": 197,
     "metadata": {},
     "output_type": "execute_result"
    }
   ],
   "source": [
    "payment_connector.load_df()"
   ]
  },
  {
   "cell_type": "code",
   "execution_count": 198,
   "metadata": {},
   "outputs": [
    {
     "data": {
      "text/html": [
       "<div>\n",
       "<style scoped>\n",
       "    .dataframe tbody tr th:only-of-type {\n",
       "        vertical-align: middle;\n",
       "    }\n",
       "\n",
       "    .dataframe tbody tr th {\n",
       "        vertical-align: top;\n",
       "    }\n",
       "\n",
       "    .dataframe thead th {\n",
       "        text-align: right;\n",
       "    }\n",
       "</style>\n",
       "<table border=\"1\" class=\"dataframe\">\n",
       "  <thead>\n",
       "    <tr style=\"text-align: right;\">\n",
       "      <th></th>\n",
       "      <th>customerNumber</th>\n",
       "      <th>checkNumber</th>\n",
       "      <th>paymentDate</th>\n",
       "      <th>amount</th>\n",
       "    </tr>\n",
       "  </thead>\n",
       "  <tbody>\n",
       "    <tr>\n",
       "      <td>0</td>\n",
       "      <td>103</td>\n",
       "      <td>HQ336336</td>\n",
       "      <td>2004-10-19</td>\n",
       "      <td>6066.78</td>\n",
       "    </tr>\n",
       "    <tr>\n",
       "      <td>1</td>\n",
       "      <td>103</td>\n",
       "      <td>JM555205</td>\n",
       "      <td>2003-06-05</td>\n",
       "      <td>14571.44</td>\n",
       "    </tr>\n",
       "    <tr>\n",
       "      <td>2</td>\n",
       "      <td>103</td>\n",
       "      <td>OM314933</td>\n",
       "      <td>2004-12-18</td>\n",
       "      <td>1676.14</td>\n",
       "    </tr>\n",
       "  </tbody>\n",
       "</table>\n",
       "</div>"
      ],
      "text/plain": [
       "  customerNumber checkNumber paymentDate    amount\n",
       "0            103    HQ336336  2004-10-19   6066.78\n",
       "1            103    JM555205  2003-06-05  14571.44\n",
       "2            103    OM314933  2004-12-18   1676.14"
      ]
     },
     "execution_count": 198,
     "metadata": {},
     "output_type": "execute_result"
    }
   ],
   "source": [
    "payment_connector.find_customers()"
   ]
  },
  {
   "cell_type": "code",
   "execution_count": 199,
   "metadata": {},
   "outputs": [
    {
     "data": {
      "text/plain": [
       "[('103', 'HQ336336', '2004-10-19', '6066.78'),\n",
       " ('103', 'JM555205', '2003-06-05', '14571.44'),\n",
       " ('103', 'OM314933', '2004-12-18', '1676.14')]"
      ]
     },
     "execution_count": 199,
     "metadata": {},
     "output_type": "execute_result"
    }
   ],
   "source": [
    "query = \"select * from payments where customerNumber = '103'\"\n",
    "conn.execute(query).fetchall()"
   ]
  },
  {
   "cell_type": "code",
   "execution_count": null,
   "metadata": {},
   "outputs": [],
   "source": []
  },
  {
   "cell_type": "code",
   "execution_count": 200,
   "metadata": {},
   "outputs": [],
   "source": [
    "from sklearn.linear_model import LinearRegression"
   ]
  },
  {
   "cell_type": "code",
   "execution_count": null,
   "metadata": {},
   "outputs": [],
   "source": [
    "ols = LinearRegression()"
   ]
  }
 ],
 "metadata": {
  "kernelspec": {
   "display_name": "Python 3",
   "language": "python",
   "name": "python3"
  },
  "language_info": {
   "codemirror_mode": {
    "name": "ipython",
    "version": 3
   },
   "file_extension": ".py",
   "mimetype": "text/x-python",
   "name": "python",
   "nbconvert_exporter": "python",
   "pygments_lexer": "ipython3",
   "version": "3.6.0"
  }
 },
 "nbformat": 4,
 "nbformat_minor": 2
}
